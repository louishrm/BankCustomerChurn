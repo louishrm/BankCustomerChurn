{
 "cells": [
  {
   "cell_type": "markdown",
   "metadata": {},
   "source": [
    "# Bank Customer Churn Predictor \n",
    "\n",
    "## Project introduction\n",
    "Customer retention is paramount to the survival, growth and development of a company. It helps forge strong and lasting relationships with existing customers which not only helps attract new ones, but also provides a steady source of income by increasing a customer's lifetime value. In fact, the probability of selling to an existing customer is around 60-70% whilst the chance of selling to a new prospect ranges from 5-20%. Acquiring new prospects is about 5 times more expensive than retaining existing customers. Finally, increasing customer retention by just 5% can increase profits by 25-95% [[1]](https://www.outboundengine.com/blog/customer-retention-marketing-vs-customer-acquisition-marketing/).\n",
    "\n",
    "Therefore, it is in the interest of a company or service to be able to determine, using historical data whether a customer will churn (not be retained/exit) in advance in order to take preemptive action and try to retain them. \n",
    "\n",
    "In this python notebook, I will attempt to build a model which outputs the likelihood of a customer exiting a bank using the bank customer churn prediction dataset from [Kaggle](https://www.kaggle.com/adammaus/predicting-churn-for-bank-customers). "
   ]
  },
  {
   "cell_type": "code",
   "execution_count": 1,
   "metadata": {},
   "outputs": [],
   "source": [
    "#imports \n",
    "import pandas as pd \n",
    "import numpy as np\n",
    "import matplotlib.pyplot as plt\n",
    "import seaborn as sns\n",
    "%matplotlib inline\n",
    "\n",
    "from sklearn import preprocessing\n",
    "from sklearn.model_selection import train_test_split\n",
    "from sklearn import metrics\n",
    "from sklearn.preprocessing import StandardScaler\n",
    "\n",
    "import statsmodels.api as sm\n",
    "\n",
    "import keras \n",
    "from keras.models import Sequential\n",
    "from keras.layers import Dense\n"
   ]
  },
  {
   "cell_type": "code",
   "execution_count": 2,
   "metadata": {},
   "outputs": [],
   "source": [
    "#gathering \n",
    "df = pd.read_csv('Churn_Modelling.csv')"
   ]
  },
  {
   "cell_type": "code",
   "execution_count": 3,
   "metadata": {},
   "outputs": [
    {
     "data": {
      "text/html": [
       "<div>\n",
       "<style scoped>\n",
       "    .dataframe tbody tr th:only-of-type {\n",
       "        vertical-align: middle;\n",
       "    }\n",
       "\n",
       "    .dataframe tbody tr th {\n",
       "        vertical-align: top;\n",
       "    }\n",
       "\n",
       "    .dataframe thead th {\n",
       "        text-align: right;\n",
       "    }\n",
       "</style>\n",
       "<table border=\"1\" class=\"dataframe\">\n",
       "  <thead>\n",
       "    <tr style=\"text-align: right;\">\n",
       "      <th></th>\n",
       "      <th>RowNumber</th>\n",
       "      <th>CustomerId</th>\n",
       "      <th>Surname</th>\n",
       "      <th>CreditScore</th>\n",
       "      <th>Geography</th>\n",
       "      <th>Gender</th>\n",
       "      <th>Age</th>\n",
       "      <th>Tenure</th>\n",
       "      <th>Balance</th>\n",
       "      <th>NumOfProducts</th>\n",
       "      <th>HasCrCard</th>\n",
       "      <th>IsActiveMember</th>\n",
       "      <th>EstimatedSalary</th>\n",
       "      <th>Exited</th>\n",
       "    </tr>\n",
       "  </thead>\n",
       "  <tbody>\n",
       "    <tr>\n",
       "      <th>0</th>\n",
       "      <td>1</td>\n",
       "      <td>15634602</td>\n",
       "      <td>Hargrave</td>\n",
       "      <td>619</td>\n",
       "      <td>France</td>\n",
       "      <td>Female</td>\n",
       "      <td>42</td>\n",
       "      <td>2</td>\n",
       "      <td>0.00</td>\n",
       "      <td>1</td>\n",
       "      <td>1</td>\n",
       "      <td>1</td>\n",
       "      <td>101348.88</td>\n",
       "      <td>1</td>\n",
       "    </tr>\n",
       "    <tr>\n",
       "      <th>1</th>\n",
       "      <td>2</td>\n",
       "      <td>15647311</td>\n",
       "      <td>Hill</td>\n",
       "      <td>608</td>\n",
       "      <td>Spain</td>\n",
       "      <td>Female</td>\n",
       "      <td>41</td>\n",
       "      <td>1</td>\n",
       "      <td>83807.86</td>\n",
       "      <td>1</td>\n",
       "      <td>0</td>\n",
       "      <td>1</td>\n",
       "      <td>112542.58</td>\n",
       "      <td>0</td>\n",
       "    </tr>\n",
       "    <tr>\n",
       "      <th>2</th>\n",
       "      <td>3</td>\n",
       "      <td>15619304</td>\n",
       "      <td>Onio</td>\n",
       "      <td>502</td>\n",
       "      <td>France</td>\n",
       "      <td>Female</td>\n",
       "      <td>42</td>\n",
       "      <td>8</td>\n",
       "      <td>159660.80</td>\n",
       "      <td>3</td>\n",
       "      <td>1</td>\n",
       "      <td>0</td>\n",
       "      <td>113931.57</td>\n",
       "      <td>1</td>\n",
       "    </tr>\n",
       "    <tr>\n",
       "      <th>3</th>\n",
       "      <td>4</td>\n",
       "      <td>15701354</td>\n",
       "      <td>Boni</td>\n",
       "      <td>699</td>\n",
       "      <td>France</td>\n",
       "      <td>Female</td>\n",
       "      <td>39</td>\n",
       "      <td>1</td>\n",
       "      <td>0.00</td>\n",
       "      <td>2</td>\n",
       "      <td>0</td>\n",
       "      <td>0</td>\n",
       "      <td>93826.63</td>\n",
       "      <td>0</td>\n",
       "    </tr>\n",
       "    <tr>\n",
       "      <th>4</th>\n",
       "      <td>5</td>\n",
       "      <td>15737888</td>\n",
       "      <td>Mitchell</td>\n",
       "      <td>850</td>\n",
       "      <td>Spain</td>\n",
       "      <td>Female</td>\n",
       "      <td>43</td>\n",
       "      <td>2</td>\n",
       "      <td>125510.82</td>\n",
       "      <td>1</td>\n",
       "      <td>1</td>\n",
       "      <td>1</td>\n",
       "      <td>79084.10</td>\n",
       "      <td>0</td>\n",
       "    </tr>\n",
       "  </tbody>\n",
       "</table>\n",
       "</div>"
      ],
      "text/plain": [
       "   RowNumber  CustomerId   Surname  CreditScore Geography  Gender  Age  \\\n",
       "0          1    15634602  Hargrave          619    France  Female   42   \n",
       "1          2    15647311      Hill          608     Spain  Female   41   \n",
       "2          3    15619304      Onio          502    France  Female   42   \n",
       "3          4    15701354      Boni          699    France  Female   39   \n",
       "4          5    15737888  Mitchell          850     Spain  Female   43   \n",
       "\n",
       "   Tenure    Balance  NumOfProducts  HasCrCard  IsActiveMember  \\\n",
       "0       2       0.00              1          1               1   \n",
       "1       1   83807.86              1          0               1   \n",
       "2       8  159660.80              3          1               0   \n",
       "3       1       0.00              2          0               0   \n",
       "4       2  125510.82              1          1               1   \n",
       "\n",
       "   EstimatedSalary  Exited  \n",
       "0        101348.88       1  \n",
       "1        112542.58       0  \n",
       "2        113931.57       1  \n",
       "3         93826.63       0  \n",
       "4         79084.10       0  "
      ]
     },
     "execution_count": 3,
     "metadata": {},
     "output_type": "execute_result"
    }
   ],
   "source": [
    "df.head()"
   ]
  },
  {
   "cell_type": "markdown",
   "metadata": {},
   "source": [
    "## Introduction to the dataset \n",
    "This dataset was downloaded from Kaggle and contains 14 metrics on 10 000 bank customers:\n",
    "\n",
    "* Row number\n",
    "* Customer ID \n",
    "* Customer surnamne \n",
    "* Credit score: a number between 300-850 which depicts their ability to repay debts. This higher this number is, the more attratctive the customer looks to potential lenders. \n",
    "* Customer geography (country) \n",
    "* Gender\n",
    "* Age \n",
    "* Tenure: amount of time (in years) the account has been open.\n",
    "* Balance\n",
    "* Number of products\n",
    "* If the customer has a credit card\n",
    "* If the customer is an active member\n",
    "* Customer estimated salary\n",
    "* If the customer has closed his account/exited the bank\n",
    "\n",
    "## Data cleaning"
   ]
  },
  {
   "cell_type": "markdown",
   "metadata": {},
   "source": [
    "Checking if all datatypes are correct. "
   ]
  },
  {
   "cell_type": "code",
   "execution_count": 4,
   "metadata": {},
   "outputs": [
    {
     "data": {
      "text/plain": [
       "RowNumber            int64\n",
       "CustomerId           int64\n",
       "Surname             object\n",
       "CreditScore          int64\n",
       "Geography           object\n",
       "Gender              object\n",
       "Age                  int64\n",
       "Tenure               int64\n",
       "Balance            float64\n",
       "NumOfProducts        int64\n",
       "HasCrCard            int64\n",
       "IsActiveMember       int64\n",
       "EstimatedSalary    float64\n",
       "Exited               int64\n",
       "dtype: object"
      ]
     },
     "execution_count": 4,
     "metadata": {},
     "output_type": "execute_result"
    }
   ],
   "source": [
    "df.dtypes"
   ]
  },
  {
   "cell_type": "markdown",
   "metadata": {},
   "source": [
    "It is apparent that not all columns are relevant with what we are trying to do. The ones that immediately come to mind are ```RowNumber```, ```CustomerID``` and ```Surname```, so we can drop these rows from the DataFrame. "
   ]
  },
  {
   "cell_type": "code",
   "execution_count": 5,
   "metadata": {},
   "outputs": [],
   "source": [
    "df.drop(columns = ['RowNumber', 'CustomerId', 'Surname'],inplace = True)"
   ]
  },
  {
   "cell_type": "markdown",
   "metadata": {},
   "source": [
    "Next we can decapitalise the column headers to slightly simplify the further steps. "
   ]
  },
  {
   "cell_type": "code",
   "execution_count": 6,
   "metadata": {},
   "outputs": [],
   "source": [
    "df.columns  = df.columns.str.lower()"
   ]
  },
  {
   "cell_type": "markdown",
   "metadata": {},
   "source": [
    "## Exploratory data analysis \n",
    "In this section, the data will be explored to draw insights and assumptions for  model building will be checked. \n",
    "\n",
    "### Percent of customers who churned. "
   ]
  },
  {
   "cell_type": "code",
   "execution_count": 7,
   "metadata": {
    "scrolled": true
   },
   "outputs": [
    {
     "data": {
      "image/png": "[encoded data removed]",
      "text/plain": [
       "<Figure size 432x288 with 1 Axes>"
      ]
     },
     "metadata": {},
     "output_type": "display_data"
    }
   ],
   "source": [
    "plt.pie(df['exited'].value_counts(), labels = ['stayed '+ str(sum(df['exited']==0)/df.shape[0] *100)+ '%', 'left ' +str(sum(df['exited']==1)/df.shape[0] *100)+ '%' ]);"
   ]
  },
  {
   "cell_type": "markdown",
   "metadata": {},
   "source": [
    "About 80% of the customers in this dataset still have their account in the bank whilst 20% have churned. We note that there is a class imbalance in this dataset. "
   ]
  },
  {
   "cell_type": "markdown",
   "metadata": {},
   "source": [
    "### Credit Score"
   ]
  },
  {
   "cell_type": "code",
   "execution_count": 8,
   "metadata": {},
   "outputs": [
    {
     "name": "stderr",
     "output_type": "stream",
     "text": [
      "/opt/anaconda3/lib/python3.7/site-packages/numpy/core/_asarray.py:83: VisibleDeprecationWarning: Creating an ndarray from ragged nested sequences (which is a list-or-tuple of lists-or-tuples-or ndarrays with different lengths or shapes) is deprecated. If you meant to do this, you must specify 'dtype=object' when creating the ndarray\n",
      "  return array(a, dtype, copy=False, order=order)\n"
     ]
    },
    {
     "data": {
      "image/png": "[encoded data removed]",
      "text/plain": [
       "<Figure size 720x576 with 1 Axes>"
      ]
     },
     "metadata": {
      "needs_background": "light"
     },
     "output_type": "display_data"
    }
   ],
   "source": [
    "plt.figure(figsize=(10,8))\n",
    "plt.ylabel('credit score')\n",
    "plt.boxplot([df[df['exited']==1]['creditscore'],df[df['exited']==0]['creditscore']], labels = ['customers who churned', \"customers who didn't churn\"], showfliers= False );\n",
    "plt.title(\"Boxplots of credit score (users who churned and users who didn't churn)\");"
   ]
  },
  {
   "cell_type": "markdown",
   "metadata": {},
   "source": [
    "This boxplot suggests that there isn't much of a difference in the credit score of customers who churned and who didn't."
   ]
  },
  {
   "cell_type": "markdown",
   "metadata": {},
   "source": [
    "### Gender"
   ]
  },
  {
   "cell_type": "code",
   "execution_count": 9,
   "metadata": {},
   "outputs": [
    {
     "data": {
      "text/plain": [
       "Male      5457\n",
       "Female    4543\n",
       "Name: gender, dtype: int64"
      ]
     },
     "execution_count": 9,
     "metadata": {},
     "output_type": "execute_result"
    }
   ],
   "source": [
    "df['gender'].value_counts()"
   ]
  },
  {
   "cell_type": "code",
   "execution_count": 10,
   "metadata": {},
   "outputs": [
    {
     "data": {
      "text/plain": [
       "(1139, 898)"
      ]
     },
     "execution_count": 10,
     "metadata": {},
     "output_type": "execute_result"
    }
   ],
   "source": [
    "df.query('gender== \"Female\" & exited==1').shape[0], df.query('gender== \"Male\" & exited==1').shape[0]"
   ]
  },
  {
   "cell_type": "markdown",
   "metadata": {},
   "source": [
    "We see that there are about 900 more male customers than female customers in this bank yet around 250 more females have left the bank. Is this just chance or is gender statistically significant in predicting whether a given customer will churn? "
   ]
  },
  {
   "cell_type": "markdown",
   "metadata": {},
   "source": [
    "### Age "
   ]
  },
  {
   "cell_type": "code",
   "execution_count": 11,
   "metadata": {},
   "outputs": [
    {
     "data": {
      "image/png": "[encoded data removed]",
      "text/plain": [
       "<Figure size 432x288 with 1 Axes>"
      ]
     },
     "metadata": {
      "needs_background": "light"
     },
     "output_type": "display_data"
    }
   ],
   "source": [
    "plt.xlabel('age')\n",
    "plt.ylabel('counts')\n",
    "plt.hist(df['age'], label =['age', 'counts']);\n",
    "plt.title('age distribution of the bank customers');"
   ]
  },
  {
   "cell_type": "markdown",
   "metadata": {},
   "source": [
    "Overall, the age distribution is somewhat normal (symmetric around the mean) with a slight skew to the left. "
   ]
  },
  {
   "cell_type": "code",
   "execution_count": 12,
   "metadata": {},
   "outputs": [
    {
     "name": "stderr",
     "output_type": "stream",
     "text": [
      "/opt/anaconda3/lib/python3.7/site-packages/numpy/core/_asarray.py:83: VisibleDeprecationWarning: Creating an ndarray from ragged nested sequences (which is a list-or-tuple of lists-or-tuples-or ndarrays with different lengths or shapes) is deprecated. If you meant to do this, you must specify 'dtype=object' when creating the ndarray\n",
      "  return array(a, dtype, copy=False, order=order)\n"
     ]
    },
    {
     "data": {
      "image/png": "[encoded data removed]",
      "text/plain": [
       "<Figure size 720x576 with 1 Axes>"
      ]
     },
     "metadata": {
      "needs_background": "light"
     },
     "output_type": "display_data"
    }
   ],
   "source": [
    "plt.figure(figsize=(10,8))\n",
    "plt.ylabel('age')\n",
    "plt.boxplot([df[df['exited']==1]['age'],df[df['exited']==0]['age']], labels = ['customers who churned', \"customers who didn't churn\"], showfliers= False );\n",
    "plt.title(\"Boxplots of age (users who churned and users who didn't churn)\");"
   ]
  },
  {
   "cell_type": "markdown",
   "metadata": {},
   "source": [
    "These boxplots suggest that there might be a relationship between age and likelihood of churning. Indeed we see that customers who churned are generally older than those who didn't churn. "
   ]
  },
  {
   "cell_type": "markdown",
   "metadata": {},
   "source": [
    "### Active member"
   ]
  },
  {
   "cell_type": "code",
   "execution_count": 13,
   "metadata": {},
   "outputs": [
    {
     "data": {
      "text/plain": [
       "1    5151\n",
       "0    4849\n",
       "Name: isactivemember, dtype: int64"
      ]
     },
     "execution_count": 13,
     "metadata": {},
     "output_type": "execute_result"
    }
   ],
   "source": [
    "df['isactivemember'].value_counts()"
   ]
  },
  {
   "cell_type": "code",
   "execution_count": 14,
   "metadata": {},
   "outputs": [
    {
     "data": {
      "text/plain": [
       "(735, 1302)"
      ]
     },
     "execution_count": 14,
     "metadata": {},
     "output_type": "execute_result"
    }
   ],
   "source": [
    "df.query('isactivemember == 1 & exited== 1').shape[0], df.query('isactivemember == 0 & exited== 1').shape[0]"
   ]
  },
  {
   "cell_type": "markdown",
   "metadata": {},
   "source": [
    "In this dataset, there is a similar amount of active and non active members. We note that a lot more inactive members have churned. "
   ]
  },
  {
   "cell_type": "markdown",
   "metadata": {},
   "source": [
    "### Remarks \n",
    "This quick EDA does seem to point out a to relationship between the different variables present in the dataset and whether a given customer has exited the bank. We could therefore use different machine learning methods to build a model that predicts if a customer will churn. "
   ]
  },
  {
   "cell_type": "markdown",
   "metadata": {},
   "source": [
    "### Preparing the data\n",
    "* First, let's replace the observations in the categorical rows with dummies.\n",
    "* Setting which columns of the dataframes are the variables and setting ```exited``` as the response variable. \n",
    "* Splitting the dataframe into training (75%) and testing (25%) datasets. "
   ]
  },
  {
   "cell_type": "code",
   "execution_count": 15,
   "metadata": {},
   "outputs": [
    {
     "name": "stderr",
     "output_type": "stream",
     "text": [
      "/opt/anaconda3/lib/python3.7/site-packages/pandas/core/frame.py:3997: SettingWithCopyWarning: \n",
      "A value is trying to be set on a copy of a slice from a DataFrame\n",
      "\n",
      "See the caveats in the documentation: https://pandas.pydata.org/pandas-docs/stable/user_guide/indexing.html#returning-a-view-versus-a-copy\n",
      "  errors=errors,\n"
     ]
    }
   ],
   "source": [
    "#Getting dummies\n",
    "gender =pd.get_dummies(df['gender'], drop_first = True)\n",
    "geography = pd.get_dummies(df['geography'], drop_first= True )  #France used as reference category\n",
    "\n",
    "#Covariates\n",
    "covariates = [df.columns[i] for i in range(len(df.columns)-1)]\n",
    "X = df[covariates]\n",
    "X.drop(columns = ['geography', 'gender'], inplace = True)\n",
    "\n",
    "#merge dummies into covariates \n",
    "X=pd.concat([X,geography,gender],axis=1)\n",
    "\n",
    "#response\n",
    "y= df.exited\n",
    "\n",
    "#splitting the data train/test\n",
    "X_train,X_test,y_train,y_test=train_test_split(X,y,test_size=0.2,random_state=0)"
   ]
  },
  {
   "cell_type": "markdown",
   "metadata": {},
   "source": [
    "## Logistic regression \n",
    "\n",
    "\n",
    "This method is used for modelling a binary response (exited/stayed) by using a sigmoid function which maps any real number to a probability (between 0 and 1): $$f: \\mathbb R \\to (0,1), f(x) = \\frac 1 {1+ e^{-x}}$$\n",
    "\n",
    "A logistic model works under certain **assumptions** we make on our data, namely: \n",
    "* That the dependent variable be binary (this is true in our case) \n",
    "* That each observation is independent of each other - this can be hard to check but in this we can make this assumption as whether customer 1 has churned or not should not have an impact on the outcome of customer 2. \n",
    "* That there is little to no *multicollinearity* between the covariates. This is tricky to check, as there can be a relationship between ```estimatedsalary```and ```creditscore``` for example. However, we shall go ahead and assume that there is little to no multicollinearity in this dataset. \n",
    "* We are also assuming that there is a linear relationship between the log odds and the covariates: if $p$ is the probability of a customer churning, then we are saying that: $$\\ln \\left( \\frac p {1-p} \\right) = \\beta_0 +\\sum_{i=1}^n \\beta_i x_i $$\n",
    "\n",
    "* Finally logistic regression requires a large enough sample size. The 'rule of ten' is usually used as a guidline: number of observations $>$ 10. This criteria is satisfied in our case as we have 10,000 observations to work with.\n",
    "\n",
    "The method used to estimate the regression coefficients here is [maximum likelihood estimation](https://www.univ-orleans.fr/deg/masters/ESA/CH/Chapter2_MLE.pdf). \n"
   ]
  },
  {
   "cell_type": "markdown",
   "metadata": {},
   "source": [
    "### Building the model\n",
    "* Building a logistic regression model from our training dataset\n",
    "* Getting the output from ```statsmodels.api```"
   ]
  },
  {
   "cell_type": "code",
   "execution_count": 16,
   "metadata": {
    "scrolled": true
   },
   "outputs": [
    {
     "name": "stdout",
     "output_type": "stream",
     "text": [
      "Optimization terminated successfully.\n",
      "         Current function value: 0.437821\n",
      "         Iterations 6\n",
      "                           Logit Regression Results                           \n",
      "==============================================================================\n",
      "Dep. Variable:                 exited   No. Observations:                 8000\n",
      "Model:                          Logit   Df Residuals:                     7989\n",
      "Method:                           MLE   Df Model:                           10\n",
      "Date:                Sun, 29 Aug 2021   Pseudo R-squ.:                  0.1346\n",
      "Time:                        11:00:30   Log-Likelihood:                -3502.6\n",
      "converged:                       True   LL-Null:                       -4047.2\n",
      "Covariance Type:            nonrobust   LLR p-value:                1.103e-227\n",
      "===================================================================================\n",
      "                      coef    std err          z      P>|z|      [0.025      0.975]\n",
      "-----------------------------------------------------------------------------------\n",
      "creditscore        -0.0035      0.000    -16.487      0.000      -0.004      -0.003\n",
      "age                 0.0589      0.003     22.413      0.000       0.054       0.064\n",
      "tenure             -0.0499      0.010     -4.902      0.000      -0.070      -0.030\n",
      "balance          8.165e-07   5.51e-07      1.481      0.139   -2.64e-07     1.9e-06\n",
      "numofproducts      -0.3679      0.051     -7.241      0.000      -0.468      -0.268\n",
      "hascrcard          -0.1927      0.064     -3.028      0.002      -0.317      -0.068\n",
      "isactivemember     -1.0390      0.063    -16.527      0.000      -1.162      -0.916\n",
      "estimatedsalary -7.885e-07   5.11e-07     -1.544      0.122   -1.79e-06    2.12e-07\n",
      "Germany             0.8495      0.076     11.228      0.000       0.701       0.998\n",
      "Spain               0.0392      0.077      0.509      0.611      -0.112       0.190\n",
      "Male               -0.6332      0.060    -10.622      0.000      -0.750      -0.516\n",
      "===================================================================================\n"
     ]
    }
   ],
   "source": [
    "logreg= sm.Logit(y_train, X_train).fit()\n",
    "print(logreg.summary())"
   ]
  },
  {
   "cell_type": "markdown",
   "metadata": {},
   "source": [
    "### Testing the model \n",
    "* Applying the model to our testing set\n",
    "* Displaying the confusion matrix \n",
    "* Displaying the accuracy, precision and recall "
   ]
  },
  {
   "cell_type": "code",
   "execution_count": 17,
   "metadata": {},
   "outputs": [],
   "source": [
    "pred = list(map(round, logreg.predict(X_test)))"
   ]
  },
  {
   "cell_type": "code",
   "execution_count": 18,
   "metadata": {},
   "outputs": [
    {
     "data": {
      "image/png": "[encoded data removed]",
      "text/plain": [
       "<Figure size 576x432 with 2 Axes>"
      ]
     },
     "metadata": {
      "needs_background": "light"
     },
     "output_type": "display_data"
    }
   ],
   "source": [
    "cnf_matrix = metrics.confusion_matrix(y_test, pred)\n",
    "plt.figure(figsize= (8,6))\n",
    "group_names = ['True Negative','Type I Error','Tye II Error','True Positive']\n",
    "group_counts = ['{0:0.0f}'.format(value) for value in\n",
    "                cnf_matrix.flatten()]\n",
    "group_percentages = ['{0:.2%}'.format(value) for value in\n",
    "                     cnf_matrix.flatten()/np.sum(cnf_matrix)]\n",
    "labels = [f'{v1}\\n{v2}\\n{v3}' for v1, v2, v3 in\n",
    "          zip(group_names,group_counts,group_percentages)]\n",
    "labels = np.asarray(labels).reshape(2,2)\n",
    "sns.heatmap(cnf_matrix, annot=labels, fmt='', cmap='Blues');"
   ]
  },
  {
   "cell_type": "code",
   "execution_count": 19,
   "metadata": {
    "scrolled": true
   },
   "outputs": [
    {
     "name": "stdout",
     "output_type": "stream",
     "text": [
      "Accuracy: 0.812\n",
      "Precision: 0.5900621118012422\n",
      "Recall: 0.2345679012345679\n"
     ]
    }
   ],
   "source": [
    "print(\"Accuracy:\",metrics.accuracy_score(y_test, pred))\n",
    "print(\"Precision:\",metrics.precision_score(y_test, pred))\n",
    "print(\"Recall:\",metrics.recall_score(y_test, pred))"
   ]
  },
  {
   "cell_type": "markdown",
   "metadata": {},
   "source": [
    "### Analysing the model \n",
    "\n",
    "#### Summary \n",
    "First, the model returns and LLR p-value of $\\approx 1.103 \\times 10^{-227}$ which is very low and indicates that we have grounds to reject the null hypothesis $H_0$, which states that the predicted $y$ values from our model are no closer than $y$ values we would get by chance. Therefore, our model does explain some of the variability in the likelihood of a customer exiting the bank. \n",
    "\n",
    "Overall, most of the covariates have low p-values associated with them (<0.05) except for ```balance```(0.139), ```estimatedsalary``` (0.122) and the categorical covariate ```Spain``` (0.611, which is high!). I have chosen to keep these predictors in the model. We could consider removing ```Spain``` but this would make the interpreation of the coefficients for ```geography``` very tricky. \n",
    "\n",
    "#### Confusion matrix \n",
    "The confusing matrix seems to indicate that our model is powerful in deciding whether a person will **not churn** as it returned a Type I error rate (false positive) of$\\approx$ 3.3% when applied to the testing set. Out of the 1605 people who did not churn, the model correctly identified 1529 of them. \n",
    "\n",
    "However, our model has a high Type II error rate (false negatives) of $\\approx$15.5%. In fact, of the 405 customers who exited the bank in this dataset, our model was only able to correctly identify 95 of them! \n",
    "\n",
    "#### Accuracy, Precision and Recall\n",
    "The model displays an accuracy of around 80, which in theory is a rather good number. This result is deceptive as our dataset contains a class imbalance (80% to 20%). When we look at our confusion matrix, we see that the model is not very good at identifying customers who exit the bank. \n",
    "\n",
    "Precison = $\\frac{TP}{TP+FP}$. This metric quantifies the number of correct positive predictions made. It is the accuracy of minority class predicitions. Our precision is $\\approx 0.6$ which is not high enough. \n",
    "\n",
    "Recall = $\\frac{TP}{TP+FN}$. This metric quantifies the number of correct positive predictions made out of all possible positive predicitions. In our case, the recall is of $\\approx 0.23$ which is extremely low and indicates that our model is not good at identifying customers who exit the bank. "
   ]
  },
  {
   "cell_type": "markdown",
   "metadata": {},
   "source": [
    "## Artificial Neural Network\n",
    "\n",
    "Since our logistic regression model does not provide good results, we can try our luck with an artificial neural network. The input layer of our neural network will have 11 nodes (which correspond to each covariate in our dataset). Our output layer will have one node and will assign a probability (number between 0 and 1) to incoming data via the use of a **sigmoid function** (discussed above). The weights of the model will be adjusted during the training by the [gradient descent](https://en.wikipedia.org/wiki/Gradient_descent) method.\n",
    "\n",
    "\n",
    "First, we assume that our covariates are normally distributed: $X_i \\sim N(\\mu_i, \\sigma_i^2)$, where $i$ represents the $i$th predictor.\n",
    "Since the range of values these variables take is different, it makes sense to apply a standard normal transformation to our data: $$X_i = \\frac{X_i- \\mu_i}{\\sigma_i} \\sim N(0,1^2)$$"
   ]
  },
  {
   "cell_type": "code",
   "execution_count": 20,
   "metadata": {},
   "outputs": [],
   "source": [
    "sc = StandardScaler()\n",
    "X_train = sc.fit_transform(X_train)\n",
    "X_test = sc.transform(X_test)"
   ]
  },
  {
   "cell_type": "code",
   "execution_count": 21,
   "metadata": {},
   "outputs": [],
   "source": [
    "#initialising the neural network\n",
    "classifier = Sequential()"
   ]
  },
  {
   "cell_type": "markdown",
   "metadata": {},
   "source": [
    "### The architecture (activation functions, hidden layers and nodes). \n",
    "\n",
    "#### Architecture\n",
    "I have chosen a neural network with 1 input layer, one output layer and 3 hidden layers with 8,6 and 4 neurons in each one respectively. This choice was arbitrary. There is a way to determine the best architecture for an artificial neural network using hyperparameter optimisation, but I am quite new to this topic and wanted to keep it simple for my first project. \n",
    "\n",
    "The weights are initialised using the *'he'* method, developed by Kaming He, who is currently a research scientist at Facebook: the weights for each layer are generated in the following way: $$ w \\sim N(0, \\sqrt{\\frac 2{n_l}}^2)$$\n",
    "\n",
    "Where $n_l$ represents the amount of neurons in the $l$th layer. This weight initialisation method works well with ReLU and allows us to avoid the *vanishing and exploding grandient* problems which can occur during backpropagation. \n",
    "\n",
    "The weights at the output layer are generated with the *Glorot uniform distribution*: \n",
    "\n",
    "$$w \\sim U \\left [ -\\frac{ {\\sqrt 6}}{\\sqrt{n_l +n_{l +1}}}, \\frac{ {\\sqrt 6}}{\\sqrt{n_l +n_{l +1}}} \\right]$$\n",
    "\n",
    "#### Activation functions \n",
    "I have chosen to use the ReLU (rectified linear unit) activation function at each node of each layer (except for the output layer). This function is defined in the following way: $$ g: \\mathbb R \\to \\mathbb R, g(x) = \\max(0,x)$$\n",
    "\n",
    "The advantage of using ReLU is that it can solve the *vanishing gradient*  problem which appears during the backpropagation phase of training when using a sigmoid activation function. The explanation is technical and requires an understanding of the multivariate chain rule and the fact that the first derivative of the sigmoid function: $$ f'(x) = \\frac {e^{-x}}{(1+e^{-x})^2}$$ \n",
    "\n",
    "is such that $\\forall x \\in \\mathbb R, 0< f'(x) <0.25$. \n",
    "More on this can be found [here](https://en.wikipedia.org/wiki/Vanishing_gradient_problem).\n"
   ]
  },
  {
   "cell_type": "code",
   "execution_count": 22,
   "metadata": {},
   "outputs": [],
   "source": [
    "#building the neural network\n",
    "\n",
    "#input layer\n",
    "classifier.add(Dense(8, kernel_initializer='he_uniform',activation='relu',input_dim = 11))\n",
    "\n",
    "#hidden layers\n",
    "classifier.add(Dense(6, kernel_initializer='he_uniform',activation='relu'))\n",
    "classifier.add(Dense(4, kernel_initializer='he_uniform',activation='relu'))\n",
    "\n",
    "#Output layer\n",
    "classifier.add(Dense(1, kernel_initializer='glorot_uniform', activation = 'sigmoid'))\n"
   ]
  },
  {
   "cell_type": "code",
   "execution_count": 23,
   "metadata": {},
   "outputs": [
    {
     "name": "stdout",
     "output_type": "stream",
     "text": [
      "Epoch 1/100\n",
      "800/800 [==============================] - 2s 1ms/step - loss: 0.5078 - accuracy: 0.7635\n",
      "Epoch 2/100\n",
      "800/800 [==============================] - 1s 1ms/step - loss: 0.4331 - accuracy: 0.8074\n",
      "Epoch 3/100\n",
      "800/800 [==============================] - 1s 1ms/step - loss: 0.4130 - accuracy: 0.8131\n",
      "Epoch 4/100\n",
      "800/800 [==============================] - 1s 1ms/step - loss: 0.3966 - accuracy: 0.8253\n",
      "Epoch 5/100\n",
      "800/800 [==============================] - 1s 1ms/step - loss: 0.3807 - accuracy: 0.8425\n",
      "Epoch 6/100\n",
      "800/800 [==============================] - 1s 1ms/step - loss: 0.3658 - accuracy: 0.8496\n",
      "Epoch 7/100\n",
      "800/800 [==============================] - 1s 1ms/step - loss: 0.3524 - accuracy: 0.8554\n",
      "Epoch 8/100\n",
      "800/800 [==============================] - 1s 1ms/step - loss: 0.3459 - accuracy: 0.8590\n",
      "Epoch 9/100\n",
      "800/800 [==============================] - 1s 1ms/step - loss: 0.3417 - accuracy: 0.8606\n",
      "Epoch 10/100\n",
      "800/800 [==============================] - 1s 1ms/step - loss: 0.3400 - accuracy: 0.8615\n",
      "Epoch 11/100\n",
      "800/800 [==============================] - 1s 2ms/step - loss: 0.3387 - accuracy: 0.8624\n",
      "Epoch 12/100\n",
      "800/800 [==============================] - 1s 2ms/step - loss: 0.3374 - accuracy: 0.8620\n",
      "Epoch 13/100\n",
      "800/800 [==============================] - 2s 2ms/step - loss: 0.3366 - accuracy: 0.8614\n",
      "Epoch 14/100\n",
      "800/800 [==============================] - 1s 1ms/step - loss: 0.3354 - accuracy: 0.8621\n",
      "Epoch 15/100\n",
      "800/800 [==============================] - 1s 1ms/step - loss: 0.3354 - accuracy: 0.8641\n",
      "Epoch 16/100\n",
      "800/800 [==============================] - 1s 2ms/step - loss: 0.3342 - accuracy: 0.8625\n",
      "Epoch 17/100\n",
      "800/800 [==============================] - 1s 1ms/step - loss: 0.3339 - accuracy: 0.8633\n",
      "Epoch 18/100\n",
      "800/800 [==============================] - 1s 2ms/step - loss: 0.3328 - accuracy: 0.8627\n",
      "Epoch 19/100\n",
      "800/800 [==============================] - 1s 1ms/step - loss: 0.3325 - accuracy: 0.8651\n",
      "Epoch 20/100\n",
      "800/800 [==============================] - 1s 1ms/step - loss: 0.3325 - accuracy: 0.8622\n",
      "Epoch 21/100\n",
      "800/800 [==============================] - 1s 1ms/step - loss: 0.3317 - accuracy: 0.8640\n",
      "Epoch 22/100\n",
      "800/800 [==============================] - 1s 1ms/step - loss: 0.3317 - accuracy: 0.8625\n",
      "Epoch 23/100\n",
      "800/800 [==============================] - 1s 2ms/step - loss: 0.3322 - accuracy: 0.8631\n",
      "Epoch 24/100\n",
      "800/800 [==============================] - 1s 1ms/step - loss: 0.3313 - accuracy: 0.8633\n",
      "Epoch 25/100\n",
      "800/800 [==============================] - 1s 1ms/step - loss: 0.3316 - accuracy: 0.8627\n",
      "Epoch 26/100\n",
      "800/800 [==============================] - 1s 2ms/step - loss: 0.3306 - accuracy: 0.8635\n",
      "Epoch 27/100\n",
      "800/800 [==============================] - 1s 1ms/step - loss: 0.3308 - accuracy: 0.8645\n",
      "Epoch 28/100\n",
      "800/800 [==============================] - 1s 1ms/step - loss: 0.3301 - accuracy: 0.8631\n",
      "Epoch 29/100\n",
      "800/800 [==============================] - 1s 1ms/step - loss: 0.3299 - accuracy: 0.8634\n",
      "Epoch 30/100\n",
      "800/800 [==============================] - 1s 2ms/step - loss: 0.3294 - accuracy: 0.8624\n",
      "Epoch 31/100\n",
      "800/800 [==============================] - 1s 2ms/step - loss: 0.3298 - accuracy: 0.8635\n",
      "Epoch 32/100\n",
      "800/800 [==============================] - 1s 2ms/step - loss: 0.3283 - accuracy: 0.8650\n",
      "Epoch 33/100\n",
      "800/800 [==============================] - 1s 1ms/step - loss: 0.3290 - accuracy: 0.8636\n",
      "Epoch 34/100\n",
      "800/800 [==============================] - 2s 2ms/step - loss: 0.3289 - accuracy: 0.8637\n",
      "Epoch 35/100\n",
      "800/800 [==============================] - 1s 2ms/step - loss: 0.3285 - accuracy: 0.8656\n",
      "Epoch 36/100\n",
      "800/800 [==============================] - 1s 1ms/step - loss: 0.3286 - accuracy: 0.8634\n",
      "Epoch 37/100\n",
      "800/800 [==============================] - 1s 1ms/step - loss: 0.3287 - accuracy: 0.8652\n",
      "Epoch 38/100\n",
      "800/800 [==============================] - 2s 3ms/step - loss: 0.3286 - accuracy: 0.8631\n",
      "Epoch 39/100\n",
      "800/800 [==============================] - 2s 3ms/step - loss: 0.3279 - accuracy: 0.8630\n",
      "Epoch 40/100\n",
      "800/800 [==============================] - 2s 2ms/step - loss: 0.3278 - accuracy: 0.8639\n",
      "Epoch 41/100\n",
      "800/800 [==============================] - 1s 1ms/step - loss: 0.3275 - accuracy: 0.8639\n",
      "Epoch 42/100\n",
      "800/800 [==============================] - 1s 1ms/step - loss: 0.3273 - accuracy: 0.8649\n",
      "Epoch 43/100\n",
      "800/800 [==============================] - 1s 1ms/step - loss: 0.3273 - accuracy: 0.8639\n",
      "Epoch 44/100\n",
      "800/800 [==============================] - 1s 1ms/step - loss: 0.3275 - accuracy: 0.8651\n",
      "Epoch 45/100\n",
      "800/800 [==============================] - 1s 1ms/step - loss: 0.3274 - accuracy: 0.8661\n",
      "Epoch 46/100\n",
      "800/800 [==============================] - 1s 1ms/step - loss: 0.3272 - accuracy: 0.8662\n",
      "Epoch 47/100\n",
      "800/800 [==============================] - 1s 1ms/step - loss: 0.3269 - accuracy: 0.8646\n",
      "Epoch 48/100\n",
      "800/800 [==============================] - 1s 1ms/step - loss: 0.3267 - accuracy: 0.8636\n",
      "Epoch 49/100\n",
      "800/800 [==============================] - 1s 1ms/step - loss: 0.3265 - accuracy: 0.8646\n",
      "Epoch 50/100\n",
      "800/800 [==============================] - 1s 2ms/step - loss: 0.3266 - accuracy: 0.8655\n",
      "Epoch 51/100\n",
      "800/800 [==============================] - 1s 1ms/step - loss: 0.3258 - accuracy: 0.8639\n",
      "Epoch 52/100\n",
      "800/800 [==============================] - 1s 1ms/step - loss: 0.3261 - accuracy: 0.8652\n",
      "Epoch 53/100\n",
      "800/800 [==============================] - 1s 1ms/step - loss: 0.3270 - accuracy: 0.8633\n",
      "Epoch 54/100\n",
      "800/800 [==============================] - 1s 1ms/step - loss: 0.3256 - accuracy: 0.8660\n",
      "Epoch 55/100\n",
      "800/800 [==============================] - 1s 1ms/step - loss: 0.3260 - accuracy: 0.8644\n",
      "Epoch 56/100\n",
      "800/800 [==============================] - 1s 2ms/step - loss: 0.3252 - accuracy: 0.8644\n",
      "Epoch 57/100\n",
      "800/800 [==============================] - 1s 1ms/step - loss: 0.3251 - accuracy: 0.8643\n",
      "Epoch 58/100\n",
      "800/800 [==============================] - 3s 4ms/step - loss: 0.3254 - accuracy: 0.8651\n",
      "Epoch 59/100\n",
      "800/800 [==============================] - 1s 2ms/step - loss: 0.3254 - accuracy: 0.8660\n",
      "Epoch 60/100\n",
      "800/800 [==============================] - 1s 1ms/step - loss: 0.3256 - accuracy: 0.8636\n",
      "Epoch 61/100\n",
      "800/800 [==============================] - 1s 1ms/step - loss: 0.3248 - accuracy: 0.8648\n",
      "Epoch 62/100\n",
      "800/800 [==============================] - 1s 1ms/step - loss: 0.3255 - accuracy: 0.8641\n",
      "Epoch 63/100\n",
      "800/800 [==============================] - 1s 1ms/step - loss: 0.3249 - accuracy: 0.8646\n",
      "Epoch 64/100\n",
      "800/800 [==============================] - 1s 1ms/step - loss: 0.3248 - accuracy: 0.8655\n",
      "Epoch 65/100\n",
      "800/800 [==============================] - 1s 2ms/step - loss: 0.3248 - accuracy: 0.8659\n",
      "Epoch 66/100\n",
      "800/800 [==============================] - 1s 2ms/step - loss: 0.3245 - accuracy: 0.8646\n",
      "Epoch 67/100\n",
      "800/800 [==============================] - 1s 1ms/step - loss: 0.3249 - accuracy: 0.8652\n",
      "Epoch 68/100\n",
      "800/800 [==============================] - 1s 1ms/step - loss: 0.3243 - accuracy: 0.8664\n",
      "Epoch 69/100\n",
      "800/800 [==============================] - 1s 2ms/step - loss: 0.3242 - accuracy: 0.8648\n",
      "Epoch 70/100\n",
      "800/800 [==============================] - 1s 1ms/step - loss: 0.3243 - accuracy: 0.8658\n",
      "Epoch 71/100\n",
      "800/800 [==============================] - 1s 2ms/step - loss: 0.3242 - accuracy: 0.8662\n",
      "Epoch 72/100\n",
      "800/800 [==============================] - 1s 1ms/step - loss: 0.3250 - accuracy: 0.8662\n",
      "Epoch 73/100\n",
      "800/800 [==============================] - 1s 1ms/step - loss: 0.3238 - accuracy: 0.8668\n",
      "Epoch 74/100\n",
      "800/800 [==============================] - 1s 1ms/step - loss: 0.3244 - accuracy: 0.8651\n",
      "Epoch 75/100\n",
      "800/800 [==============================] - 1s 1ms/step - loss: 0.3237 - accuracy: 0.8668\n",
      "Epoch 76/100\n",
      "800/800 [==============================] - 1s 1ms/step - loss: 0.3241 - accuracy: 0.8671\n",
      "Epoch 77/100\n",
      "800/800 [==============================] - 1s 1ms/step - loss: 0.3231 - accuracy: 0.8656\n",
      "Epoch 78/100\n",
      "800/800 [==============================] - 1s 1ms/step - loss: 0.3242 - accuracy: 0.8668\n",
      "Epoch 79/100\n",
      "800/800 [==============================] - 1s 1ms/step - loss: 0.3240 - accuracy: 0.8674\n",
      "Epoch 80/100\n",
      "800/800 [==============================] - 2s 2ms/step - loss: 0.3237 - accuracy: 0.8665\n",
      "Epoch 81/100\n"
     ]
    },
    {
     "name": "stdout",
     "output_type": "stream",
     "text": [
      "800/800 [==============================] - 2s 2ms/step - loss: 0.3237 - accuracy: 0.8659\n",
      "Epoch 82/100\n",
      "800/800 [==============================] - 1s 1ms/step - loss: 0.3241 - accuracy: 0.8673\n",
      "Epoch 83/100\n",
      "800/800 [==============================] - 1s 2ms/step - loss: 0.3236 - accuracy: 0.8649\n",
      "Epoch 84/100\n",
      "800/800 [==============================] - 1s 2ms/step - loss: 0.3232 - accuracy: 0.8664\n",
      "Epoch 85/100\n",
      "800/800 [==============================] - 1s 2ms/step - loss: 0.3236 - accuracy: 0.8660\n",
      "Epoch 86/100\n",
      "800/800 [==============================] - 2s 2ms/step - loss: 0.3234 - accuracy: 0.8662\n",
      "Epoch 87/100\n",
      "800/800 [==============================] - 1s 2ms/step - loss: 0.3234 - accuracy: 0.8654\n",
      "Epoch 88/100\n",
      "800/800 [==============================] - 1s 1ms/step - loss: 0.3233 - accuracy: 0.8670\n",
      "Epoch 89/100\n",
      "800/800 [==============================] - 1s 2ms/step - loss: 0.3233 - accuracy: 0.8656\n",
      "Epoch 90/100\n",
      "800/800 [==============================] - 1s 2ms/step - loss: 0.3239 - accuracy: 0.8670\n",
      "Epoch 91/100\n",
      "800/800 [==============================] - 1s 2ms/step - loss: 0.3236 - accuracy: 0.8651\n",
      "Epoch 92/100\n",
      "800/800 [==============================] - 1s 2ms/step - loss: 0.3234 - accuracy: 0.8658\n",
      "Epoch 93/100\n",
      "800/800 [==============================] - 2s 2ms/step - loss: 0.3233 - accuracy: 0.8658\n",
      "Epoch 94/100\n",
      "800/800 [==============================] - 1s 2ms/step - loss: 0.3237 - accuracy: 0.8681\n",
      "Epoch 95/100\n",
      "800/800 [==============================] - 1s 2ms/step - loss: 0.3228 - accuracy: 0.8679\n",
      "Epoch 96/100\n",
      "800/800 [==============================] - 2s 2ms/step - loss: 0.3233 - accuracy: 0.8662\n",
      "Epoch 97/100\n",
      "800/800 [==============================] - 1s 2ms/step - loss: 0.3239 - accuracy: 0.8679\n",
      "Epoch 98/100\n",
      "800/800 [==============================] - 1s 2ms/step - loss: 0.3229 - accuracy: 0.8658\n",
      "Epoch 99/100\n",
      "800/800 [==============================] - 1s 2ms/step - loss: 0.3233 - accuracy: 0.8645\n",
      "Epoch 100/100\n",
      "800/800 [==============================] - 1s 2ms/step - loss: 0.3231 - accuracy: 0.8675\n"
     ]
    },
    {
     "data": {
      "text/plain": [
       "<keras.callbacks.History at 0x7fdecc028690>"
      ]
     },
     "execution_count": 23,
     "metadata": {},
     "output_type": "execute_result"
    }
   ],
   "source": [
    "#Compiling and training the model\n",
    "classifier.compile(optimizer = 'adam', loss = 'binary_crossentropy', metrics = ['accuracy'])\n",
    "classifier.fit(X_train, y_train, batch_size = 10, epochs = 100)"
   ]
  },
  {
   "cell_type": "code",
   "execution_count": 24,
   "metadata": {},
   "outputs": [],
   "source": [
    "#using the model on testing data\n",
    "y_pred = classifier.predict(X_test)\n",
    "y_pred = (y_pred > 0.5)"
   ]
  },
  {
   "cell_type": "code",
   "execution_count": 25,
   "metadata": {},
   "outputs": [
    {
     "data": {
      "image/png": "[encoded data removed]",
      "text/plain": [
       "<Figure size 576x432 with 2 Axes>"
      ]
     },
     "metadata": {
      "needs_background": "light"
     },
     "output_type": "display_data"
    }
   ],
   "source": [
    "#confusion matrix\n",
    "cnf_matrix = metrics.confusion_matrix(y_test, y_pred)\n",
    "plt.figure(figsize= (8,6))\n",
    "group_names = ['True Negative','Type I Error','Tye II Error','True Positive']\n",
    "group_counts = ['{0:0.0f}'.format(value) for value in\n",
    "                cnf_matrix.flatten()]\n",
    "group_percentages = ['{0:.2%}'.format(value) for value in\n",
    "                     cnf_matrix.flatten()/np.sum(cnf_matrix)]\n",
    "labels = [f'{v1}\\n{v2}\\n{v3}' for v1, v2, v3 in\n",
    "          zip(group_names,group_counts,group_percentages)]\n",
    "labels = np.asarray(labels).reshape(2,2)\n",
    "sns.heatmap(cnf_matrix, annot=labels, fmt='', cmap='Blues');"
   ]
  },
  {
   "cell_type": "code",
   "execution_count": 26,
   "metadata": {},
   "outputs": [
    {
     "name": "stdout",
     "output_type": "stream",
     "text": [
      "Accuracy: 0.8585\n",
      "Precision: 0.706081081081081\n",
      "Recall: 0.5160493827160494\n"
     ]
    }
   ],
   "source": [
    "print(\"Accuracy:\",metrics.accuracy_score(y_test, y_pred))\n",
    "print(\"Precision:\",metrics.precision_score(y_test, y_pred))\n",
    "print(\"Recall:\",metrics.recall_score(y_test, y_pred))"
   ]
  },
  {
   "cell_type": "markdown",
   "metadata": {},
   "source": [
    "### Results \n",
    "\n",
    "Our ANN has been more successful in identifying the customers that are likely to exit the bank: detecting around 50% of them at the detriment of a slightly higher Type I error rate of just under 5%. \n",
    "This model would therefore be more useful to the people working at the bank than the logistic regression model. \n",
    "The neural network also has a higher accuracy, precision and recall than the logistc regression model. \n",
    "\n",
    "I believe both models could be improved by reducing the class imbalance in the dataset. Meanwhile, the bank can use this model now to prevent 50% of churn cases whilst they gather more data!"
   ]
  }
 ],
 "metadata": {
  "kernelspec": {
   "display_name": "Python 3",
   "language": "python",
   "name": "python3"
  },
  "language_info": {
   "codemirror_mode": {
    "name": "ipython",
    "version": 3
   },
   "file_extension": ".py",
   "mimetype": "text/x-python",
   "name": "python",
   "nbconvert_exporter": "python",
   "pygments_lexer": "ipython3",
   "version": "3.7.7"
  }
 },
 "nbformat": 4,
 "nbformat_minor": 4
}
